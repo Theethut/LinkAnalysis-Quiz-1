{
 "cells": [
  {
   "cell_type": "code",
   "execution_count": 1,
   "metadata": {},
   "outputs": [],
   "source": [
    "# Word Count"
   ]
  },
  {
   "cell_type": "code",
   "execution_count": 2,
   "metadata": {},
   "outputs": [],
   "source": [
    "import findspark\n",
    "findspark.init()"
   ]
  },
  {
   "cell_type": "code",
   "execution_count": 13,
   "metadata": {},
   "outputs": [],
   "source": [
    "from pyspark.sql import SparkSession\n",
    "spark = SparkSession.builder\\\n",
    "        .master(\"local\")\\\n",
    "        .appName('word count')\\\n",
    "        .getOrCreate()\n",
    "sc=spark.sparkContext"
   ]
  },
  {
   "cell_type": "code",
   "execution_count": 14,
   "metadata": {},
   "outputs": [],
   "source": [
    "in_text=sc.textFile('/Users/macproretina132015/Desktop/text7205.txt')"
   ]
  },
  {
   "cell_type": "code",
   "execution_count": 15,
   "metadata": {},
   "outputs": [
    {
     "data": {
      "text/plain": [
       "['A nose print of a dog is unique the same way fingerprints of a human being are unique.',\n",
       " 'A human nose has five million scent receptors, while  a dog nose has up to three hundred million receptors.']"
      ]
     },
     "execution_count": 15,
     "metadata": {},
     "output_type": "execute_result"
    }
   ],
   "source": [
    "in_text.collect()"
   ]
  },
  {
   "cell_type": "code",
   "execution_count": 16,
   "metadata": {},
   "outputs": [],
   "source": [
    "text_flat=in_text.flatMap(lambda x: x.split(' '))\\\n",
    "            .map(lambda x: (x,1)) \\\n",
    "            .reduceByKey(lambda x,y :x+y)"
   ]
  },
  {
   "cell_type": "code",
   "execution_count": 17,
   "metadata": {},
   "outputs": [
    {
     "data": {
      "text/plain": [
       "[('A', 2),\n",
       " ('nose', 3),\n",
       " ('print', 1),\n",
       " ('of', 2),\n",
       " ('a', 3),\n",
       " ('dog', 2),\n",
       " ('is', 1),\n",
       " ('unique', 1),\n",
       " ('the', 1),\n",
       " ('same', 1),\n",
       " ('way', 1),\n",
       " ('fingerprints', 1),\n",
       " ('human', 2),\n",
       " ('being', 1),\n",
       " ('are', 1),\n",
       " ('unique.', 1),\n",
       " ('has', 2),\n",
       " ('five', 1),\n",
       " ('million', 2),\n",
       " ('scent', 1),\n",
       " ('receptors,', 1),\n",
       " ('while', 1),\n",
       " ('', 1),\n",
       " ('up', 1),\n",
       " ('to', 1),\n",
       " ('three', 1),\n",
       " ('hundred', 1),\n",
       " ('receptors.', 1)]"
      ]
     },
     "execution_count": 17,
     "metadata": {},
     "output_type": "execute_result"
    }
   ],
   "source": [
    "text_flat.collect()"
   ]
  },
  {
   "cell_type": "code",
   "execution_count": 12,
   "metadata": {},
   "outputs": [],
   "source": [
    "sc.stop()\n",
    "spark.stop()"
   ]
  },
  {
   "cell_type": "code",
   "execution_count": 9,
   "metadata": {},
   "outputs": [],
   "source": [
    "# TF-IDF"
   ]
  },
  {
   "cell_type": "code",
   "execution_count": 138,
   "metadata": {},
   "outputs": [],
   "source": [
    "text_2=in_text.flatMap(lambda x: x.split('.'))"
   ]
  },
  {
   "cell_type": "code",
   "execution_count": 139,
   "metadata": {},
   "outputs": [],
   "source": [
    "a=text_2.collect()"
   ]
  },
  {
   "cell_type": "code",
   "execution_count": 142,
   "metadata": {},
   "outputs": [],
   "source": [
    "for i in range(len(a)-1) :\n",
    "    if len(a[i])== 0 :\n",
    "        del a[i]\n",
    "        "
   ]
  },
  {
   "cell_type": "code",
   "execution_count": 168,
   "metadata": {},
   "outputs": [],
   "source": [
    "from pyspark.ml.feature import HashingTF, IDF, Tokenizer"
   ]
  },
  {
   "cell_type": "code",
   "execution_count": 173,
   "metadata": {},
   "outputs": [],
   "source": [
    "sentenceData = spark.createDataFrame([\n",
    "    (0, a[0]),\n",
    "    (1, a[1])],\n",
    " [\"document\", \"sentence\"])"
   ]
  },
  {
   "cell_type": "code",
   "execution_count": 174,
   "metadata": {},
   "outputs": [
    {
     "name": "stdout",
     "output_type": "stream",
     "text": [
      "+--------+----------------------------------------------------------------------------------------------------------+\n",
      "|document|sentence                                                                                                  |\n",
      "+--------+----------------------------------------------------------------------------------------------------------+\n",
      "|0       |A nose print of a dog is unique the same way fingerprints of a human being are unique                     |\n",
      "|1       |A human nose has five million scent receptors, while  a dog nose has up to three hundred million receptors|\n",
      "+--------+----------------------------------------------------------------------------------------------------------+\n",
      "\n"
     ]
    }
   ],
   "source": [
    "sentenceData.show(truncate=False)"
   ]
  },
  {
   "cell_type": "code",
   "execution_count": 176,
   "metadata": {},
   "outputs": [
    {
     "name": "stderr",
     "output_type": "stream",
     "text": [
      "                                                                                \r"
     ]
    }
   ],
   "source": [
    "from pyspark.ml import Pipeline\n",
    "tokenizer = Tokenizer(inputCol=\"sentence\", outputCol=\"words\")\n",
    "vectorizer  = CountVectorizer(inputCol=\"words\", outputCol=\"rawFeatures\")\n",
    "\n",
    "idf = IDF(inputCol=\"rawFeatures\", outputCol=\"features\")\n",
    "\n",
    "pipeline = Pipeline(stages=[tokenizer, vectorizer, idf])\n",
    "\n",
    "model = pipeline.fit(sentenceData)"
   ]
  },
  {
   "cell_type": "code",
   "execution_count": 177,
   "metadata": {},
   "outputs": [
    {
     "name": "stdout",
     "output_type": "stream",
     "text": [
      "+------------+------+\n",
      "|   vocabList|counts|\n",
      "+------------+------+\n",
      "|           a|   5.0|\n",
      "|        nose|   3.0|\n",
      "|         has|   2.0|\n",
      "|      unique|   2.0|\n",
      "|       human|   2.0|\n",
      "|         dog|   2.0|\n",
      "|     million|   2.0|\n",
      "|          of|   2.0|\n",
      "|         are|   1.0|\n",
      "|          up|   1.0|\n",
      "|        same|   1.0|\n",
      "|          to|   1.0|\n",
      "|          is|   1.0|\n",
      "|       scent|   1.0|\n",
      "|       print|   1.0|\n",
      "|     hundred|   1.0|\n",
      "|fingerprints|   1.0|\n",
      "|       three|   1.0|\n",
      "|   receptors|   1.0|\n",
      "|         way|   1.0|\n",
      "+------------+------+\n",
      "only showing top 20 rows\n",
      "\n"
     ]
    }
   ],
   "source": [
    "import numpy as np\n",
    "\n",
    "total_counts = model.transform(sentenceData)\\\n",
    "                    .select('rawFeatures').rdd\\\n",
    "                    .map(lambda row: row['rawFeatures'].toArray())\\\n",
    "                    .reduce(lambda x,y: [x[i]+y[i] for i in range(len(y))])\n",
    "\n",
    "vocabList = model.stages[1].vocabulary\n",
    "d = {'vocabList':vocabList,'counts':total_counts}\n",
    "\n",
    "spark.createDataFrame(np.array(list(d.values())).T.tolist(),list(d.keys())).show()"
   ]
  },
  {
   "cell_type": "code",
   "execution_count": 187,
   "metadata": {},
   "outputs": [
    {
     "name": "stdout",
     "output_type": "stream",
     "text": [
      "-RECORD 0------------------------------------------------------------------------------------------------------------------------------------------------------------------------------------------------------------------------------------------------------------------------------------------------------------\n",
      " document    | 0                                                                                                                                                                                                                                                                                                     \n",
      " sentence    | A nose print of a dog is unique the same way fingerprints of a human being are unique                                                                                                                                                                                                                 \n",
      " words       | [a, nose, print, of, a, dog, is, unique, the, same, way, fingerprints, of, a, human, being, are, unique]                                                                                                                                                                                              \n",
      " rawFeatures | (26,[0,1,3,4,5,7,8,10,12,14,16,19,20,25],[3.0,1.0,2.0,1.0,1.0,2.0,1.0,1.0,1.0,1.0,1.0,1.0,1.0,1.0])                                                                                                                                                                                                   \n",
      " features    | (26,[0,1,3,4,5,7,8,10,12,14,16,19,20,25],[0.0,0.0,0.8109302162163288,0.0,0.0,0.8109302162163288,0.4054651081081644,0.4054651081081644,0.4054651081081644,0.4054651081081644,0.4054651081081644,0.4054651081081644,0.4054651081081644,0.4054651081081644])                                             \n",
      "-RECORD 1------------------------------------------------------------------------------------------------------------------------------------------------------------------------------------------------------------------------------------------------------------------------------------------------------------\n",
      " document    | 1                                                                                                                                                                                                                                                                                                     \n",
      " sentence    | A human nose has five million scent receptors, while  a dog nose has up to three hundred million receptors                                                                                                                                                                                            \n",
      " words       | [a, human, nose, has, five, million, scent, receptors,, while, , a, dog, nose, has, up, to, three, hundred, million, receptors]                                                                                                                                                                       \n",
      " rawFeatures | (26,[0,1,2,4,5,6,9,11,13,15,17,18,21,22,23,24],[2.0,2.0,2.0,1.0,1.0,2.0,1.0,1.0,1.0,1.0,1.0,1.0,1.0,1.0,1.0,1.0])                                                                                                                                                                                     \n",
      " features    | (26,[0,1,2,4,5,6,9,11,13,15,17,18,21,22,23,24],[0.0,0.0,0.8109302162163288,0.0,0.0,0.8109302162163288,0.4054651081081644,0.4054651081081644,0.4054651081081644,0.4054651081081644,0.4054651081081644,0.4054651081081644,0.4054651081081644,0.4054651081081644,0.4054651081081644,0.4054651081081644]) \n",
      "\n"
     ]
    }
   ],
   "source": [
    "model.transform(sentenceData).show(truncate=False,vertical=True)"
   ]
  },
  {
   "cell_type": "code",
   "execution_count": null,
   "metadata": {},
   "outputs": [],
   "source": []
  },
  {
   "cell_type": "code",
   "execution_count": null,
   "metadata": {},
   "outputs": [],
   "source": []
  }
 ],
 "metadata": {
  "kernelspec": {
   "display_name": "Python 3",
   "language": "python",
   "name": "python3"
  },
  "language_info": {
   "codemirror_mode": {
    "name": "ipython",
    "version": 3
   },
   "file_extension": ".py",
   "mimetype": "text/x-python",
   "name": "python",
   "nbconvert_exporter": "python",
   "pygments_lexer": "ipython3",
   "version": "3.8.3"
  }
 },
 "nbformat": 4,
 "nbformat_minor": 2
}
